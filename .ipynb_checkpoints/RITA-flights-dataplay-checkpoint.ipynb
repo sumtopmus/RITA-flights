{
 "cells": [
  {
   "cell_type": "code",
   "execution_count": 71,
   "metadata": {
    "collapsed": true
   },
   "outputs": [],
   "source": [
    "import numpy as np\n",
    "import pandas as pd"
   ]
  },
  {
   "cell_type": "code",
   "execution_count": 72,
   "metadata": {
    "collapsed": false
   },
   "outputs": [
    {
     "name": "stdout",
     "output_type": "stream",
     "text": [
      "<class 'pandas.core.frame.DataFrame'>\n",
      "Int64Index: 471949 entries, 0 to 471948\n",
      "Data columns (total 5 columns):\n",
      "ORIGIN_AIRPORT_ID    471949 non-null int64\n",
      "DEST_AIRPORT_ID      471949 non-null int64\n",
      "ARR_DEL15            439620 non-null float64\n",
      "CANCELLED            471949 non-null float64\n",
      "Unnamed: 4           0 non-null float64\n",
      "dtypes: float64(3), int64(2)\n",
      "memory usage: 21.6 MB\n"
     ]
    }
   ],
   "source": [
    "df = pd.read_csv('data/2014-Jan.csv', header=0)\n",
    "df.info()"
   ]
  },
  {
   "cell_type": "code",
   "execution_count": 73,
   "metadata": {
    "collapsed": false
   },
   "outputs": [
    {
     "data": {
      "text/html": [
       "<div>\n",
       "<table border=\"1\" class=\"dataframe\">\n",
       "  <thead>\n",
       "    <tr style=\"text-align: right;\">\n",
       "      <th></th>\n",
       "      <th>AirportID</th>\n",
       "      <th>Delay</th>\n",
       "      <th>Cancelled</th>\n",
       "    </tr>\n",
       "  </thead>\n",
       "  <tbody>\n",
       "    <tr>\n",
       "      <th>0</th>\n",
       "      <td>10135</td>\n",
       "      <td>NaN</td>\n",
       "      <td>1</td>\n",
       "    </tr>\n",
       "    <tr>\n",
       "      <th>1</th>\n",
       "      <td>10135</td>\n",
       "      <td>0</td>\n",
       "      <td>0</td>\n",
       "    </tr>\n",
       "    <tr>\n",
       "      <th>2</th>\n",
       "      <td>10135</td>\n",
       "      <td>1</td>\n",
       "      <td>0</td>\n",
       "    </tr>\n",
       "    <tr>\n",
       "      <th>3</th>\n",
       "      <td>10135</td>\n",
       "      <td>0</td>\n",
       "      <td>0</td>\n",
       "    </tr>\n",
       "    <tr>\n",
       "      <th>4</th>\n",
       "      <td>10135</td>\n",
       "      <td>1</td>\n",
       "      <td>0</td>\n",
       "    </tr>\n",
       "  </tbody>\n",
       "</table>\n",
       "</div>"
      ],
      "text/plain": [
       "   AirportID  Delay  Cancelled\n",
       "0      10135    NaN          1\n",
       "1      10135      0          0\n",
       "2      10135      1          0\n",
       "3      10135      0          0\n",
       "4      10135      1          0"
      ]
     },
     "execution_count": 73,
     "metadata": {},
     "output_type": "execute_result"
    }
   ],
   "source": [
    "df.columns = ['AirportID', 'Destination', 'Delay', 'Cancelled', 'NONE']\n",
    "df = df[['AirportID', 'Destination', 'Delay', 'Cancelled']]\n",
    "df = df[['AirportID', 'Delay', 'Cancelled']]\n",
    "df.head()"
   ]
  },
  {
   "cell_type": "markdown",
   "metadata": {},
   "source": [
    "TODO:\n",
    "\n",
    "Draw map-like bubble visualization where each bubble is a pie for cancellation/total.\n",
    "Radius should represent total number of flights."
   ]
  },
  {
   "cell_type": "code",
   "execution_count": 74,
   "metadata": {
    "collapsed": false
   },
   "outputs": [
    {
     "data": {
      "text/html": [
       "<div>\n",
       "<table border=\"1\" class=\"dataframe\">\n",
       "  <thead>\n",
       "    <tr style=\"text-align: right;\">\n",
       "      <th></th>\n",
       "      <th>AirportID</th>\n",
       "      <th>Delay</th>\n",
       "      <th>Cancelled</th>\n",
       "    </tr>\n",
       "  </thead>\n",
       "  <tbody>\n",
       "    <tr>\n",
       "      <th>0</th>\n",
       "      <td>10135</td>\n",
       "      <td>0</td>\n",
       "      <td>1</td>\n",
       "    </tr>\n",
       "    <tr>\n",
       "      <th>1</th>\n",
       "      <td>10135</td>\n",
       "      <td>0</td>\n",
       "      <td>0</td>\n",
       "    </tr>\n",
       "    <tr>\n",
       "      <th>2</th>\n",
       "      <td>10135</td>\n",
       "      <td>1</td>\n",
       "      <td>0</td>\n",
       "    </tr>\n",
       "    <tr>\n",
       "      <th>3</th>\n",
       "      <td>10135</td>\n",
       "      <td>0</td>\n",
       "      <td>0</td>\n",
       "    </tr>\n",
       "    <tr>\n",
       "      <th>4</th>\n",
       "      <td>10135</td>\n",
       "      <td>1</td>\n",
       "      <td>0</td>\n",
       "    </tr>\n",
       "  </tbody>\n",
       "</table>\n",
       "</div>"
      ],
      "text/plain": [
       "   AirportID  Delay  Cancelled\n",
       "0      10135      0          1\n",
       "1      10135      0          0\n",
       "2      10135      1          0\n",
       "3      10135      0          0\n",
       "4      10135      1          0"
      ]
     },
     "execution_count": 74,
     "metadata": {},
     "output_type": "execute_result"
    }
   ],
   "source": [
    "df.loc[df.Delay.isnull(), 'Delay'] = 0\n",
    "df.head()"
   ]
  },
  {
   "cell_type": "code",
   "execution_count": 75,
   "metadata": {
    "collapsed": false
   },
   "outputs": [
    {
     "name": "stdout",
     "output_type": "stream",
     "text": [
      "<class 'pandas.core.frame.DataFrame'>\n",
      "Int64Index: 301 entries, 0 to 300\n",
      "Data columns (total 3 columns):\n",
      "AirportID    301 non-null int64\n",
      "Delay        301 non-null float64\n",
      "Cancelled    301 non-null float64\n",
      "dtypes: float64(2), int64(1)\n",
      "memory usage: 9.4 KB\n"
     ]
    }
   ],
   "source": [
    "dfStat = df.groupby('AirportID', as_index=False).mean()\n",
    "# dfStat.columns = ['AirportID', 'Delay', 'Cancelled']\n",
    "dfStat.info()"
   ]
  },
  {
   "cell_type": "code",
   "execution_count": 76,
   "metadata": {
    "collapsed": false
   },
   "outputs": [
    {
     "data": {
      "text/html": [
       "<div>\n",
       "<table border=\"1\" class=\"dataframe\">\n",
       "  <thead>\n",
       "    <tr style=\"text-align: right;\">\n",
       "      <th></th>\n",
       "      <th>AirportID</th>\n",
       "      <th>Delay</th>\n",
       "      <th>Cancelled</th>\n",
       "    </tr>\n",
       "  </thead>\n",
       "  <tbody>\n",
       "    <tr>\n",
       "      <th>0</th>\n",
       "      <td>10135</td>\n",
       "      <td>0.251852</td>\n",
       "      <td>0.162963</td>\n",
       "    </tr>\n",
       "    <tr>\n",
       "      <th>1</th>\n",
       "      <td>10136</td>\n",
       "      <td>0.156379</td>\n",
       "      <td>0.012346</td>\n",
       "    </tr>\n",
       "    <tr>\n",
       "      <th>2</th>\n",
       "      <td>10140</td>\n",
       "      <td>0.237173</td>\n",
       "      <td>0.034031</td>\n",
       "    </tr>\n",
       "    <tr>\n",
       "      <th>3</th>\n",
       "      <td>10141</td>\n",
       "      <td>0.129032</td>\n",
       "      <td>0.032258</td>\n",
       "    </tr>\n",
       "    <tr>\n",
       "      <th>4</th>\n",
       "      <td>10146</td>\n",
       "      <td>0.134831</td>\n",
       "      <td>0.078652</td>\n",
       "    </tr>\n",
       "  </tbody>\n",
       "</table>\n",
       "</div>"
      ],
      "text/plain": [
       "   AirportID     Delay  Cancelled\n",
       "0      10135  0.251852   0.162963\n",
       "1      10136  0.156379   0.012346\n",
       "2      10140  0.237173   0.034031\n",
       "3      10141  0.129032   0.032258\n",
       "4      10146  0.134831   0.078652"
      ]
     },
     "execution_count": 76,
     "metadata": {},
     "output_type": "execute_result"
    }
   ],
   "source": [
    "dfStat.head()"
   ]
  },
  {
   "cell_type": "code",
   "execution_count": 87,
   "metadata": {
    "collapsed": false
   },
   "outputs": [
    {
     "name": "stdout",
     "output_type": "stream",
     "text": [
      "<class 'pandas.core.frame.DataFrame'>\n",
      "Int64Index: 13094 entries, 0 to 13093\n",
      "Data columns (total 9 columns):\n",
      "AIRPORT_ID                        13094 non-null int64\n",
      "AIRPORT                           13094 non-null object\n",
      "DISPLAY_AIRPORT_NAME              13094 non-null object\n",
      "DISPLAY_AIRPORT_CITY_NAME_FULL    13094 non-null object\n",
      "AIRPORT_COUNTRY_NAME              13094 non-null object\n",
      "LATITUDE                          13093 non-null float64\n",
      "LONGITUDE                         13093 non-null float64\n",
      "AIRPORT_IS_LATEST                 13094 non-null int64\n",
      "Unnamed: 8                        0 non-null float64\n",
      "dtypes: float64(3), int64(2), object(4)\n",
      "memory usage: 1023.0+ KB\n"
     ]
    }
   ],
   "source": [
    "airports = pd.read_csv('airports.csv')\n",
    "airports.info()"
   ]
  },
  {
   "cell_type": "code",
   "execution_count": 88,
   "metadata": {
    "collapsed": false
   },
   "outputs": [
    {
     "data": {
      "text/html": [
       "<div>\n",
       "<table border=\"1\" class=\"dataframe\">\n",
       "  <thead>\n",
       "    <tr style=\"text-align: right;\">\n",
       "      <th></th>\n",
       "      <th>AirportID</th>\n",
       "      <th>Lat</th>\n",
       "      <th>Lon</th>\n",
       "    </tr>\n",
       "  </thead>\n",
       "  <tbody>\n",
       "    <tr>\n",
       "      <th>0</th>\n",
       "      <td>10001</td>\n",
       "      <td>58.109444</td>\n",
       "      <td>-152.906667</td>\n",
       "    </tr>\n",
       "    <tr>\n",
       "      <th>1</th>\n",
       "      <td>10003</td>\n",
       "      <td>65.548056</td>\n",
       "      <td>-161.071667</td>\n",
       "    </tr>\n",
       "    <tr>\n",
       "      <th>2</th>\n",
       "      <td>10004</td>\n",
       "      <td>68.083333</td>\n",
       "      <td>-163.166667</td>\n",
       "    </tr>\n",
       "    <tr>\n",
       "      <th>3</th>\n",
       "      <td>10005</td>\n",
       "      <td>67.570000</td>\n",
       "      <td>-148.183889</td>\n",
       "    </tr>\n",
       "    <tr>\n",
       "      <th>4</th>\n",
       "      <td>10006</td>\n",
       "      <td>57.745278</td>\n",
       "      <td>-152.882778</td>\n",
       "    </tr>\n",
       "  </tbody>\n",
       "</table>\n",
       "</div>"
      ],
      "text/plain": [
       "   AirportID        Lat         Lon\n",
       "0      10001  58.109444 -152.906667\n",
       "1      10003  65.548056 -161.071667\n",
       "2      10004  68.083333 -163.166667\n",
       "3      10005  67.570000 -148.183889\n",
       "4      10006  57.745278 -152.882778"
      ]
     },
     "execution_count": 88,
     "metadata": {},
     "output_type": "execute_result"
    }
   ],
   "source": [
    "airports.rename(columns={'AIRPORT_ID': 'AirportID',\n",
    "                         'LATITUDE': 'Lat',\n",
    "                         'LONGITUDE': 'Lon',\n",
    "                         'AIRPORT_IS_LATEST': 'IsLatest'}, inplace=True)\n",
    "airports = airports.loc[airports.IsLatest == 1, ['AirportID', 'Lat', 'Lon']]\n",
    "airports.head()"
   ]
  },
  {
   "cell_type": "code",
   "execution_count": 89,
   "metadata": {
    "collapsed": false
   },
   "outputs": [
    {
     "data": {
      "text/html": [
       "<div>\n",
       "<table border=\"1\" class=\"dataframe\">\n",
       "  <thead>\n",
       "    <tr style=\"text-align: right;\">\n",
       "      <th></th>\n",
       "      <th>AirportID</th>\n",
       "      <th>Lat</th>\n",
       "      <th>Lon</th>\n",
       "    </tr>\n",
       "  </thead>\n",
       "  <tbody>\n",
       "    <tr>\n",
       "      <th>156</th>\n",
       "      <td>10135</td>\n",
       "      <td>40.652222</td>\n",
       "      <td>-75.440556</td>\n",
       "    </tr>\n",
       "  </tbody>\n",
       "</table>\n",
       "</div>"
      ],
      "text/plain": [
       "     AirportID        Lat        Lon\n",
       "156      10135  40.652222 -75.440556"
      ]
     },
     "execution_count": 89,
     "metadata": {},
     "output_type": "execute_result"
    }
   ],
   "source": [
    "airports[airports.AirportID == 10135]"
   ]
  },
  {
   "cell_type": "code",
   "execution_count": 90,
   "metadata": {
    "collapsed": false
   },
   "outputs": [
    {
     "name": "stdout",
     "output_type": "stream",
     "text": [
      "<class 'pandas.core.frame.DataFrame'>\n",
      "Int64Index: 301 entries, 0 to 300\n",
      "Data columns (total 5 columns):\n",
      "AirportID    301 non-null int64\n",
      "Delay        301 non-null float64\n",
      "Cancelled    301 non-null float64\n",
      "Lat          301 non-null float64\n",
      "Lon          301 non-null float64\n",
      "dtypes: float64(4), int64(1)\n",
      "memory usage: 14.1 KB\n"
     ]
    }
   ],
   "source": [
    "joinedDF = pd.merge(dfStat, airports, on='AirportID')\n",
    "joinedDF.info()"
   ]
  },
  {
   "cell_type": "code",
   "execution_count": 91,
   "metadata": {
    "collapsed": false
   },
   "outputs": [
    {
     "data": {
      "text/html": [
       "<div>\n",
       "<table border=\"1\" class=\"dataframe\">\n",
       "  <thead>\n",
       "    <tr style=\"text-align: right;\">\n",
       "      <th></th>\n",
       "      <th>AirportID</th>\n",
       "      <th>Delay</th>\n",
       "      <th>Cancelled</th>\n",
       "      <th>Lat</th>\n",
       "      <th>Lon</th>\n",
       "    </tr>\n",
       "  </thead>\n",
       "  <tbody>\n",
       "    <tr>\n",
       "      <th>0</th>\n",
       "      <td>10135</td>\n",
       "      <td>0.251852</td>\n",
       "      <td>0.162963</td>\n",
       "      <td>40.652222</td>\n",
       "      <td>-75.440556</td>\n",
       "    </tr>\n",
       "    <tr>\n",
       "      <th>1</th>\n",
       "      <td>10136</td>\n",
       "      <td>0.156379</td>\n",
       "      <td>0.012346</td>\n",
       "      <td>32.411389</td>\n",
       "      <td>-99.681944</td>\n",
       "    </tr>\n",
       "    <tr>\n",
       "      <th>2</th>\n",
       "      <td>10140</td>\n",
       "      <td>0.237173</td>\n",
       "      <td>0.034031</td>\n",
       "      <td>35.038889</td>\n",
       "      <td>-106.608333</td>\n",
       "    </tr>\n",
       "    <tr>\n",
       "      <th>3</th>\n",
       "      <td>10141</td>\n",
       "      <td>0.129032</td>\n",
       "      <td>0.032258</td>\n",
       "      <td>45.448333</td>\n",
       "      <td>-98.422500</td>\n",
       "    </tr>\n",
       "    <tr>\n",
       "      <th>4</th>\n",
       "      <td>10146</td>\n",
       "      <td>0.134831</td>\n",
       "      <td>0.078652</td>\n",
       "      <td>31.535556</td>\n",
       "      <td>-84.194444</td>\n",
       "    </tr>\n",
       "  </tbody>\n",
       "</table>\n",
       "</div>"
      ],
      "text/plain": [
       "   AirportID     Delay  Cancelled        Lat         Lon\n",
       "0      10135  0.251852   0.162963  40.652222  -75.440556\n",
       "1      10136  0.156379   0.012346  32.411389  -99.681944\n",
       "2      10140  0.237173   0.034031  35.038889 -106.608333\n",
       "3      10141  0.129032   0.032258  45.448333  -98.422500\n",
       "4      10146  0.134831   0.078652  31.535556  -84.194444"
      ]
     },
     "execution_count": 91,
     "metadata": {},
     "output_type": "execute_result"
    }
   ],
   "source": [
    "joinedDF.head()"
   ]
  },
  {
   "cell_type": "code",
   "execution_count": 94,
   "metadata": {
    "collapsed": true
   },
   "outputs": [],
   "source": [
    "joinedDF.to_csv('build/flights-stat.csv', index=False)"
   ]
  },
  {
   "cell_type": "code",
   "execution_count": null,
   "metadata": {
    "collapsed": true
   },
   "outputs": [],
   "source": []
  }
 ],
 "metadata": {
  "kernelspec": {
   "display_name": "Python 2",
   "language": "python",
   "name": "python2"
  },
  "language_info": {
   "codemirror_mode": {
    "name": "ipython",
    "version": 2
   },
   "file_extension": ".py",
   "mimetype": "text/x-python",
   "name": "python",
   "nbconvert_exporter": "python",
   "pygments_lexer": "ipython2",
   "version": "2.7.10"
  }
 },
 "nbformat": 4,
 "nbformat_minor": 0
}
